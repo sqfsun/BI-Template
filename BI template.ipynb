{
 "cells": [
  {
   "cell_type": "markdown",
   "metadata": {},
   "source": [
    "# 一、首先导入所有要用到的库"
   ]
  },
  {
   "cell_type": "code",
   "execution_count": 2,
   "metadata": {
    "scrolled": true
   },
   "outputs": [
    {
     "ename": "ModuleNotFoundError",
     "evalue": "No module named 'pymysql'",
     "output_type": "error",
     "traceback": [
      "\u001b[1;31m---------------------------------------------------------------------------\u001b[0m",
      "\u001b[1;31mModuleNotFoundError\u001b[0m                       Traceback (most recent call last)",
      "\u001b[1;32m<ipython-input-2-567c804b714c>\u001b[0m in \u001b[0;36m<module>\u001b[1;34m\u001b[0m\n\u001b[0;32m      1\u001b[0m \u001b[1;31m# encoding=utf-8\u001b[0m\u001b[1;33m\u001b[0m\u001b[1;33m\u001b[0m\u001b[1;33m\u001b[0m\u001b[0m\n\u001b[1;32m----> 2\u001b[1;33m \u001b[1;32mimport\u001b[0m \u001b[0mpymysql\u001b[0m \u001b[1;32mas\u001b[0m \u001b[0mpms\u001b[0m\u001b[1;33m\u001b[0m\u001b[1;33m\u001b[0m\u001b[0m\n\u001b[0m\u001b[0;32m      3\u001b[0m \u001b[1;32mimport\u001b[0m \u001b[0mopenpyxl\u001b[0m\u001b[1;33m\u001b[0m\u001b[1;33m\u001b[0m\u001b[0m\n\u001b[0;32m      4\u001b[0m \u001b[1;32mimport\u001b[0m \u001b[0mdatetime\u001b[0m\u001b[1;33m\u001b[0m\u001b[1;33m\u001b[0m\u001b[0m\n\u001b[0;32m      5\u001b[0m \u001b[1;32mfrom\u001b[0m \u001b[0memail\u001b[0m\u001b[1;33m.\u001b[0m\u001b[0mmime\u001b[0m\u001b[1;33m.\u001b[0m\u001b[0mtext\u001b[0m \u001b[1;32mimport\u001b[0m \u001b[0mMIMEText\u001b[0m\u001b[1;33m\u001b[0m\u001b[1;33m\u001b[0m\u001b[0m\n",
      "\u001b[1;31mModuleNotFoundError\u001b[0m: No module named 'pymysql'"
     ]
    }
   ],
   "source": [
    "# encoding=utf-8\n",
    "import pymysql as pms\n",
    "import openpyxl\n",
    "import datetime\n",
    "from email.mime.text import MIMEText\n",
    "from email.mime.multipart import MIMEMultipart\n",
    "from email.header import Header\n",
    "import smtplib"
   ]
  },
  {
   "cell_type": "markdown",
   "metadata": {},
   "source": [
    "# 二、 编写一个传入sql就返回数据的函数get_datas(sql)"
   ]
  },
  {
   "cell_type": "code",
   "execution_count": 4,
   "metadata": {},
   "outputs": [
    {
     "ename": "SyntaxError",
     "evalue": "invalid character in identifier (<ipython-input-4-e02929edc30a>, line 2)",
     "output_type": "error",
     "traceback": [
      "\u001b[1;36m  File \u001b[1;32m\"<ipython-input-4-e02929edc30a>\"\u001b[1;36m, line \u001b[1;32m2\u001b[0m\n\u001b[1;33m    #一个传入sql导出数据的函数\u001b[0m\n\u001b[1;37m    ^\u001b[0m\n\u001b[1;31mSyntaxError\u001b[0m\u001b[1;31m:\u001b[0m invalid character in identifier\n"
     ]
    }
   ],
   "source": [
    "def get_datas(sql):\n",
    "　　# 一个传入sql导出数据的函数\n",
    "　　# 跟数据库建立连接\n",
    "　　conn = pms.connect(host='实例地址', user='用户',\n",
    "　　passwd='密码', database='库名', port=3306, charset=\"utf8\")\n",
    "　　# 使用 cursor() 方法创建一个游标对象 cursor\n",
    "　　cur = conn.cursor()\n",
    "　　# 使用 execute() 方法执行 SQL\n",
    "　　cur.execute(sql)\n",
    "　　# 获取所需要的数据\n",
    "　　datas = cur.fetchall()\n",
    "　　#关闭连接\n",
    "　　cur.close()\n",
    "　　#返回所需的数据\n",
    "　　return datas\n",
    "\n",
    "# in our case MongoDB"
   ]
  },
  {
   "cell_type": "markdown",
   "metadata": {},
   "source": [
    "# 三、 编写一个传入sql就返回数据的字段名称的函数get_datas(sql)，因为一个函数只能返回一个值，这边就用2个函数来分别返回数据和字段名称（也就是excel里的表头）"
   ]
  },
  {
   "cell_type": "code",
   "execution_count": 5,
   "metadata": {},
   "outputs": [
    {
     "ename": "SyntaxError",
     "evalue": "invalid character in identifier (<ipython-input-5-8be666d4d0aa>, line 2)",
     "output_type": "error",
     "traceback": [
      "\u001b[1;36m  File \u001b[1;32m\"<ipython-input-5-8be666d4d0aa>\"\u001b[1;36m, line \u001b[1;32m2\u001b[0m\n\u001b[1;33m    # 一个传入sql导出字段的函数\u001b[0m\n\u001b[1;37m    ^\u001b[0m\n\u001b[1;31mSyntaxError\u001b[0m\u001b[1;31m:\u001b[0m invalid character in identifier\n"
     ]
    }
   ],
   "source": [
    "def get_fields(sql):\n",
    "　　# 一个传入sql导出字段的函数\n",
    "　　conn = pms.connect(host='rm-rj91p2yhl9dm2xmbixo.mysql.rds.aliyuncs.com', user='bi-analyzer',\n",
    "　　passwd='pcNzcKPnn', database='kikuu', port=3306, charset=\"utf8\")\n",
    "　　cur = conn.cursor()\n",
    "　　cur.execute(sql)\n",
    "　　# 获取所需要的字段名称\n",
    "　　fields = cur.description\n",
    "　　cur.close()\n",
    "　　return fields"
   ]
  },
  {
   "cell_type": "markdown",
   "metadata": {},
   "source": [
    "# 四、 编写一个传入数据、字段名称、存储地址返回一个excel 的函数et_excel(data, field, file)"
   ]
  },
  {
   "cell_type": "code",
   "execution_count": 6,
   "metadata": {
    "scrolled": true
   },
   "outputs": [
    {
     "ename": "SyntaxError",
     "evalue": "invalid character in identifier (<ipython-input-6-1282dc40aa5d>, line 2)",
     "output_type": "error",
     "traceback": [
      "\u001b[1;36m  File \u001b[1;32m\"<ipython-input-6-1282dc40aa5d>\"\u001b[1;36m, line \u001b[1;32m2\u001b[0m\n\u001b[1;33m    # 将数据和字段名写入excel的函数\u001b[0m\n\u001b[1;37m    ^\u001b[0m\n\u001b[1;31mSyntaxError\u001b[0m\u001b[1;31m:\u001b[0m invalid character in identifier\n"
     ]
    }
   ],
   "source": [
    "def get_excel(data, field, file):\n",
    "　　# 将数据和字段名写入excel的函数\n",
    "　　#新建一个工作薄对象\n",
    "　　new = openpyxl.Workbook()\n",
    "　　#激活一个新的sheet\n",
    "　　sheet = new.active\n",
    "　　#给sheet命名\n",
    "　　sheet.title = '数据展示'\n",
    "　　#将字段名称循环写入excel第一行，因为字段格式列表里包含列表，每个列表的第一元素才是字段名称\n",
    "　　for col in range(len(field)):\n",
    "　　#row代表行数，column代表列数，value代表单元格输入的值，行数和列数都是从1开始，这点于python不同要注意\n",
    "　　_ = sheet.cell(row=1, column=col+1, value=u'%s' % field[col][0])\n",
    "　　#将数据循环写入excel的每个单元格中\n",
    "　　for row in range(len(data)):\n",
    "　　for col in range(len(field)):\n",
    "　　#因为第一行写了字段名称，所以要从第二行开始写入\n",
    "　　_ = sheet.cell(row=row+2, column=col + 1, value=u'%s' % data[row][col])\n",
    "　　#将生成的excel保存，这步是必不可少的\n",
    "　　newworkbook = new.save(file)\n",
    "　　#返回生成的excel\n",
    "　　return newworkbook"
   ]
  },
  {
   "cell_type": "markdown",
   "metadata": {},
   "source": [
    "# 五、 编写一个自动获取昨天日期字符串格式的函数getYesterday()"
   ]
  },
  {
   "cell_type": "code",
   "execution_count": 7,
   "metadata": {},
   "outputs": [],
   "source": [
    "\n",
    "def getYesterday():\n",
    "    # 获取昨天日期的字符串格式的函数\n",
    "    #获取今天的日期\n",
    "    today = datetime.date.today()\n",
    "    #获取一天的日期格式数据\n",
    "    oneday = datetime.timedelta(days=1)\n",
    "    #昨天等于今天减去一天\n",
    "    yesterday = today - oneday\n",
    "    #获取昨天日期的格式化字符串\n",
    "    yesterdaystr = yesterday.strftime('%Y-%m-%d')\n",
    "    #返回昨天的字符串\n",
    "    return yesterdaystr"
   ]
  },
  {
   "cell_type": "markdown",
   "metadata": {},
   "source": [
    "# 六、编写一个生成邮件的函数create_email(email_from, email_to, email_Subject, email_text, annex_path, annex_name)"
   ]
  },
  {
   "cell_type": "code",
   "execution_count": 8,
   "metadata": {},
   "outputs": [],
   "source": [
    "def create_email(email_from, email_to, email_Subject, email_text, annex_path, annex_name):\n",
    "    # 输入发件人昵称、收件人昵称、主题，正文，附件地址,附件名称生成一封邮件\n",
    "    #生成一个空的带附件的邮件实例\n",
    "    message = MIMEMultipart()\n",
    "    #将正文以text的形式插入邮件中\n",
    "    message.attach(MIMEText(email_text, 'plain', 'utf-8'))\n",
    "    #生成发件人名称（这个跟发送的邮件没有关系）\n",
    "    message['From'] = Header(email_from, 'utf-8')\n",
    "    #生成收件人名称（这个跟接收的邮件也没有关系）\n",
    "    message['To'] = Header(email_to, 'utf-8')\n",
    "    #生成邮件主题\n",
    "    message['Subject'] = Header(email_Subject, 'utf-8')\n",
    "    #读取附件的内容\n",
    "    att1 = MIMEText(open(annex_path, 'rb').read(), 'base64', 'utf-8')\n",
    "    att1[\"Content-Type\"] = 'application/octet-stream'\n",
    "    #生成附件的名称\n",
    "    att1[\"Content-Disposition\"] = 'attachment; filename=' + annex_name\n",
    "    #将附件内容插入邮件中\n",
    "    message.attach(att1)\n",
    "    #返回邮件\n",
    "    return message"
   ]
  },
  {
   "cell_type": "markdown",
   "metadata": {},
   "source": [
    "# 七、 生成一个发送邮件的函数send_email(sender, password, receiver, msg)"
   ]
  },
  {
   "cell_type": "code",
   "execution_count": 9,
   "metadata": {},
   "outputs": [
    {
     "ename": "IndentationError",
     "evalue": "expected an indented block (<ipython-input-9-bc860a8765a0>, line 5)",
     "output_type": "error",
     "traceback": [
      "\u001b[1;36m  File \u001b[1;32m\"<ipython-input-9-bc860a8765a0>\"\u001b[1;36m, line \u001b[1;32m5\u001b[0m\n\u001b[1;33m    server = smtplib.SMTP_SSL(\"smtp.mxhichina.com\", 465) # 发件人邮箱中的SMTP服务器\u001b[0m\n\u001b[1;37m         ^\u001b[0m\n\u001b[1;31mIndentationError\u001b[0m\u001b[1;31m:\u001b[0m expected an indented block\n"
     ]
    }
   ],
   "source": [
    "def send_email(sender, password, receiver, msg):\n",
    "    # 一个输入邮箱、密码、收件人、邮件内容发送邮件的函数\n",
    "    try:\n",
    "    #找到你的发送邮箱的服务器地址，已加密的形式发送\n",
    "    server = smtplib.SMTP_SSL(\"smtp.mxhichina.com\", 465) # 发件人邮箱中的SMTP服务器\n",
    "    server.ehlo()\n",
    "    #登录你的账号\n",
    "    server.login(sender, password) # 括号中对应的是发件人邮箱账号、邮箱密码\n",
    "    #发送邮件\n",
    "    server.sendmail(sender, receiver, msg.as_string()) # 括号中对应的是发件人邮箱账号、收件人邮箱账号（是一个列表）、邮件内容\n",
    "    print(\"邮件发送成功\")\n",
    "    server.quit() # 关闭连接\n",
    "    except Exception:\n",
    "    print(traceback.print_exc())\n",
    "    print(\"邮件发送失败\")"
   ]
  },
  {
   "cell_type": "markdown",
   "metadata": {},
   "source": [
    "# 　八、建立一个main函数，把所有的自定义内容输入进去，最后执行main函数"
   ]
  },
  {
   "cell_type": "code",
   "execution_count": 11,
   "metadata": {},
   "outputs": [
    {
     "ename": "SyntaxError",
     "evalue": "EOL while scanning string literal (<ipython-input-11-6f23b4d8965b>, line 3)",
     "output_type": "error",
     "traceback": [
      "\u001b[1;36m  File \u001b[1;32m\"<ipython-input-11-6f23b4d8965b>\"\u001b[1;36m, line \u001b[1;32m3\u001b[0m\n\u001b[1;33m    my_sql = sql = \"SELECT a.id '用户ID',\u001b[0m\n\u001b[1;37m                                       ^\u001b[0m\n\u001b[1;31mSyntaxError\u001b[0m\u001b[1;31m:\u001b[0m EOL while scanning string literal\n"
     ]
    }
   ],
   "source": [
    "def main():\n",
    "    print(datetime.datetime.now())\n",
    "    my_sql = sql = \"SELECT a.id '用户ID',\n",
    "    a.gmtCreate '用户注册时间',\n",
    "    af.lastLoginTime '最后登录时间',\n",
    "    af.totalBuyCount '历史付款子单数',\n",
    "    af.paidmountUSD '历史付款金额',\n",
    "    af.lastPayTime '用户最后支付时间'\n",
    "    FROM table a\n",
    "    LEFT JOIN tableb af ON a.id= af.accountId ;\"\n",
    "    # 生成数据\n",
    "    my_data = get_datas(my_sql)\n",
    "    # 生成字段名称\n",
    "    my_field = get_fields(my_sql)\n",
    "    # 得到昨天的日期\n",
    "    yesterdaystr = getYesterday()\n",
    "    # 文件名称\n",
    "    my_file_name = 'user attribute' + yesterdaystr + '.xlsx'\n",
    "    # 文件路径\n",
    "    file_path = 'D:/work/report/' + my_file_name\n",
    "    # 生成excel\n",
    "    get_excel(my_data, my_field, file_path)\n",
    "    my_email_from = 'BI部门自动报表机器人'\n",
    "    my_email_to = '运营部'\n",
    "    # 邮件标题\n",
    "    my_email_Subject = 'user' + yesterdaystr\n",
    "    # 邮件正文\n",
    "    my_email_text = \"Dear all,\n",
    "    附件为每周数据，请查收！\n",
    "    BI团队 \"\n",
    "    #附件地址\n",
    "    my_annex_path = file_path\n",
    "    #附件名称\n",
    "    my_annex_name = my_file_name\n",
    "    # 生成邮件\n",
    "    my_msg = create_email(my_email_from, my_email_to, my_email_Subject,\n",
    "    my_email_text, my_annex_path, my_annex_name)\n",
    "    my_sender = '阿里云邮箱'\n",
    "    my_password = '我的密码'\n",
    "    my_receiver = [10001@qq.com']#接收人邮箱列表\n",
    "    # 发送邮件\n",
    "    send_email(my_sender, my_password, my_receiver, my_msg)\n",
    "    print(datetime.datetime.now())\n",
    "    if __name__ == \"__main__\":\n",
    "    main();"
   ]
  },
  {
   "cell_type": "code",
   "execution_count": null,
   "metadata": {},
   "outputs": [],
   "source": []
  }
 ],
 "metadata": {
  "kernelspec": {
   "display_name": "Python 3",
   "language": "python",
   "name": "python3"
  },
  "language_info": {
   "codemirror_mode": {
    "name": "ipython",
    "version": 3
   },
   "file_extension": ".py",
   "mimetype": "text/x-python",
   "name": "python",
   "nbconvert_exporter": "python",
   "pygments_lexer": "ipython3",
   "version": "3.7.3"
  }
 },
 "nbformat": 4,
 "nbformat_minor": 2
}
